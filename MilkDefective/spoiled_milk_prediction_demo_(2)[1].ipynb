{
 "cells": [
  {
   "cell_type": "code",
   "execution_count": 1,
   "id": "2d7004a2-8384-4c00-a25a-d9b47590c730",
   "metadata": {},
   "outputs": [],
   "source": [
    "import pandas as pd\n",
    "import numpy as np\n",
    "import matplotlib.pyplot as plt\n",
    "import seaborn as sns"
   ]
  },
  {
   "cell_type": "code",
   "execution_count": 2,
   "id": "c63d34cb-0fe2-439f-add7-5a09777b3a5a",
   "metadata": {},
   "outputs": [],
   "source": [
    "freshmilk=pd.read_csv('C:\\\\Users\\\\asus\\\\Downloads\\\\fresh_milk_dataset.csv')"
   ]
  },
  {
   "cell_type": "code",
   "execution_count": 3,
   "id": "9df05a27-63ec-4b77-9a39-c77b3f654a17",
   "metadata": {},
   "outputs": [],
   "source": [
    "spoiledmilk=pd.read_csv('C:\\\\Users\\\\asus\\\\Downloads\\\\Spoiled_milk_dataset.csv')"
   ]
  },
  {
   "cell_type": "code",
   "execution_count": 4,
   "id": "cd39689b-091f-40fe-9b84-fb3d4e63f989",
   "metadata": {},
   "outputs": [
    {
     "data": {
      "text/html": [
       "<div>\n",
       "<style scoped>\n",
       "    .dataframe tbody tr th:only-of-type {\n",
       "        vertical-align: middle;\n",
       "    }\n",
       "\n",
       "    .dataframe tbody tr th {\n",
       "        vertical-align: top;\n",
       "    }\n",
       "\n",
       "    .dataframe thead th {\n",
       "        text-align: right;\n",
       "    }\n",
       "</style>\n",
       "<table border=\"1\" class=\"dataframe\">\n",
       "  <thead>\n",
       "    <tr style=\"text-align: right;\">\n",
       "      <th></th>\n",
       "      <th>Absorbance</th>\n",
       "      <th>Reflectance</th>\n",
       "      <th>Fluoroscence</th>\n",
       "    </tr>\n",
       "  </thead>\n",
       "  <tbody>\n",
       "    <tr>\n",
       "      <th>0</th>\n",
       "      <td>-0.45</td>\n",
       "      <td>1.13</td>\n",
       "      <td>2.30</td>\n",
       "    </tr>\n",
       "    <tr>\n",
       "      <th>1</th>\n",
       "      <td>-0.45</td>\n",
       "      <td>1.07</td>\n",
       "      <td>2.39</td>\n",
       "    </tr>\n",
       "    <tr>\n",
       "      <th>2</th>\n",
       "      <td>-0.46</td>\n",
       "      <td>1.17</td>\n",
       "      <td>2.41</td>\n",
       "    </tr>\n",
       "    <tr>\n",
       "      <th>3</th>\n",
       "      <td>-0.47</td>\n",
       "      <td>1.16</td>\n",
       "      <td>2.39</td>\n",
       "    </tr>\n",
       "    <tr>\n",
       "      <th>4</th>\n",
       "      <td>-0.43</td>\n",
       "      <td>1.04</td>\n",
       "      <td>2.21</td>\n",
       "    </tr>\n",
       "  </tbody>\n",
       "</table>\n",
       "</div>"
      ],
      "text/plain": [
       "  Absorbance  Reflectance  Fluoroscence\n",
       "0      -0.45         1.13          2.30\n",
       "1      -0.45         1.07          2.39\n",
       "2      -0.46         1.17          2.41\n",
       "3      -0.47         1.16          2.39\n",
       "4      -0.43         1.04          2.21"
      ]
     },
     "execution_count": 4,
     "metadata": {},
     "output_type": "execute_result"
    }
   ],
   "source": [
    "freshmilk.head()"
   ]
  },
  {
   "cell_type": "code",
   "execution_count": 5,
   "id": "3c238472-14e6-4e49-a3a3-9c90524a02fa",
   "metadata": {},
   "outputs": [
    {
     "data": {
      "text/html": [
       "<div>\n",
       "<style scoped>\n",
       "    .dataframe tbody tr th:only-of-type {\n",
       "        vertical-align: middle;\n",
       "    }\n",
       "\n",
       "    .dataframe tbody tr th {\n",
       "        vertical-align: top;\n",
       "    }\n",
       "\n",
       "    .dataframe thead th {\n",
       "        text-align: right;\n",
       "    }\n",
       "</style>\n",
       "<table border=\"1\" class=\"dataframe\">\n",
       "  <thead>\n",
       "    <tr style=\"text-align: right;\">\n",
       "      <th></th>\n",
       "      <th>Absorbance</th>\n",
       "      <th>Reflectance</th>\n",
       "      <th>Fluoroscence</th>\n",
       "    </tr>\n",
       "  </thead>\n",
       "  <tbody>\n",
       "    <tr>\n",
       "      <th>0</th>\n",
       "      <td>-0.26</td>\n",
       "      <td>0.71</td>\n",
       "      <td>1.32</td>\n",
       "    </tr>\n",
       "    <tr>\n",
       "      <th>1</th>\n",
       "      <td>-0.26</td>\n",
       "      <td>0.71</td>\n",
       "      <td>1.36</td>\n",
       "    </tr>\n",
       "    <tr>\n",
       "      <th>2</th>\n",
       "      <td>-0.25</td>\n",
       "      <td>0.75</td>\n",
       "      <td>1.31</td>\n",
       "    </tr>\n",
       "    <tr>\n",
       "      <th>3</th>\n",
       "      <td>-0.26</td>\n",
       "      <td>0.70</td>\n",
       "      <td>1.29</td>\n",
       "    </tr>\n",
       "    <tr>\n",
       "      <th>4</th>\n",
       "      <td>-0.26</td>\n",
       "      <td>0.71</td>\n",
       "      <td>1.37</td>\n",
       "    </tr>\n",
       "  </tbody>\n",
       "</table>\n",
       "</div>"
      ],
      "text/plain": [
       "  Absorbance  Reflectance  Fluoroscence\n",
       "0      -0.26         0.71          1.32\n",
       "1      -0.26         0.71          1.36\n",
       "2      -0.25         0.75          1.31\n",
       "3      -0.26         0.70          1.29\n",
       "4      -0.26         0.71          1.37"
      ]
     },
     "execution_count": 5,
     "metadata": {},
     "output_type": "execute_result"
    }
   ],
   "source": [
    "spoiledmilk.head()"
   ]
  },
  {
   "cell_type": "code",
   "execution_count": 6,
   "id": "e6edaa82-1f88-4593-b993-d42d0c1277c2",
   "metadata": {},
   "outputs": [],
   "source": [
    "freshmilk['label']=1"
   ]
  },
  {
   "cell_type": "code",
   "execution_count": 7,
   "id": "4151716f-cc4a-44a2-85fb-0d560457f251",
   "metadata": {},
   "outputs": [],
   "source": [
    "spoiledmilk['label']=0"
   ]
  },
  {
   "cell_type": "code",
   "execution_count": 8,
   "id": "36735f1f-0dcc-43cc-ad55-cb4391945f92",
   "metadata": {},
   "outputs": [
    {
     "data": {
      "text/html": [
       "<div>\n",
       "<style scoped>\n",
       "    .dataframe tbody tr th:only-of-type {\n",
       "        vertical-align: middle;\n",
       "    }\n",
       "\n",
       "    .dataframe tbody tr th {\n",
       "        vertical-align: top;\n",
       "    }\n",
       "\n",
       "    .dataframe thead th {\n",
       "        text-align: right;\n",
       "    }\n",
       "</style>\n",
       "<table border=\"1\" class=\"dataframe\">\n",
       "  <thead>\n",
       "    <tr style=\"text-align: right;\">\n",
       "      <th></th>\n",
       "      <th>Absorbance</th>\n",
       "      <th>Reflectance</th>\n",
       "      <th>Fluoroscence</th>\n",
       "      <th>label</th>\n",
       "    </tr>\n",
       "  </thead>\n",
       "  <tbody>\n",
       "    <tr>\n",
       "      <th>0</th>\n",
       "      <td>-0.45</td>\n",
       "      <td>1.13</td>\n",
       "      <td>2.30</td>\n",
       "      <td>1</td>\n",
       "    </tr>\n",
       "    <tr>\n",
       "      <th>1</th>\n",
       "      <td>-0.45</td>\n",
       "      <td>1.07</td>\n",
       "      <td>2.39</td>\n",
       "      <td>1</td>\n",
       "    </tr>\n",
       "    <tr>\n",
       "      <th>2</th>\n",
       "      <td>-0.46</td>\n",
       "      <td>1.17</td>\n",
       "      <td>2.41</td>\n",
       "      <td>1</td>\n",
       "    </tr>\n",
       "    <tr>\n",
       "      <th>3</th>\n",
       "      <td>-0.47</td>\n",
       "      <td>1.16</td>\n",
       "      <td>2.39</td>\n",
       "      <td>1</td>\n",
       "    </tr>\n",
       "    <tr>\n",
       "      <th>4</th>\n",
       "      <td>-0.43</td>\n",
       "      <td>1.04</td>\n",
       "      <td>2.21</td>\n",
       "      <td>1</td>\n",
       "    </tr>\n",
       "  </tbody>\n",
       "</table>\n",
       "</div>"
      ],
      "text/plain": [
       "  Absorbance  Reflectance  Fluoroscence  label\n",
       "0      -0.45         1.13          2.30      1\n",
       "1      -0.45         1.07          2.39      1\n",
       "2      -0.46         1.17          2.41      1\n",
       "3      -0.47         1.16          2.39      1\n",
       "4      -0.43         1.04          2.21      1"
      ]
     },
     "execution_count": 8,
     "metadata": {},
     "output_type": "execute_result"
    }
   ],
   "source": [
    "freshmilk.head()"
   ]
  },
  {
   "cell_type": "code",
   "execution_count": 9,
   "id": "e52aea5f-1903-4d87-8a6c-65f53f4cef71",
   "metadata": {},
   "outputs": [
    {
     "data": {
      "text/html": [
       "<div>\n",
       "<style scoped>\n",
       "    .dataframe tbody tr th:only-of-type {\n",
       "        vertical-align: middle;\n",
       "    }\n",
       "\n",
       "    .dataframe tbody tr th {\n",
       "        vertical-align: top;\n",
       "    }\n",
       "\n",
       "    .dataframe thead th {\n",
       "        text-align: right;\n",
       "    }\n",
       "</style>\n",
       "<table border=\"1\" class=\"dataframe\">\n",
       "  <thead>\n",
       "    <tr style=\"text-align: right;\">\n",
       "      <th></th>\n",
       "      <th>Absorbance</th>\n",
       "      <th>Reflectance</th>\n",
       "      <th>Fluoroscence</th>\n",
       "      <th>label</th>\n",
       "    </tr>\n",
       "  </thead>\n",
       "  <tbody>\n",
       "    <tr>\n",
       "      <th>0</th>\n",
       "      <td>-0.26</td>\n",
       "      <td>0.71</td>\n",
       "      <td>1.32</td>\n",
       "      <td>0</td>\n",
       "    </tr>\n",
       "    <tr>\n",
       "      <th>1</th>\n",
       "      <td>-0.26</td>\n",
       "      <td>0.71</td>\n",
       "      <td>1.36</td>\n",
       "      <td>0</td>\n",
       "    </tr>\n",
       "    <tr>\n",
       "      <th>2</th>\n",
       "      <td>-0.25</td>\n",
       "      <td>0.75</td>\n",
       "      <td>1.31</td>\n",
       "      <td>0</td>\n",
       "    </tr>\n",
       "    <tr>\n",
       "      <th>3</th>\n",
       "      <td>-0.26</td>\n",
       "      <td>0.70</td>\n",
       "      <td>1.29</td>\n",
       "      <td>0</td>\n",
       "    </tr>\n",
       "    <tr>\n",
       "      <th>4</th>\n",
       "      <td>-0.26</td>\n",
       "      <td>0.71</td>\n",
       "      <td>1.37</td>\n",
       "      <td>0</td>\n",
       "    </tr>\n",
       "  </tbody>\n",
       "</table>\n",
       "</div>"
      ],
      "text/plain": [
       "  Absorbance  Reflectance  Fluoroscence  label\n",
       "0      -0.26         0.71          1.32      0\n",
       "1      -0.26         0.71          1.36      0\n",
       "2      -0.25         0.75          1.31      0\n",
       "3      -0.26         0.70          1.29      0\n",
       "4      -0.26         0.71          1.37      0"
      ]
     },
     "execution_count": 9,
     "metadata": {},
     "output_type": "execute_result"
    }
   ],
   "source": [
    "spoiledmilk.head()"
   ]
  },
  {
   "cell_type": "code",
   "execution_count": 10,
   "id": "a06dee92-baa3-4dac-b7c5-9412943250ae",
   "metadata": {},
   "outputs": [],
   "source": [
    "milk=pd.concat([freshmilk,spoiledmilk],axis=0)"
   ]
  },
  {
   "cell_type": "code",
   "execution_count": 11,
   "id": "3afae7ba-59b3-428f-888d-4cef93df536d",
   "metadata": {},
   "outputs": [
    {
     "data": {
      "text/html": [
       "<div>\n",
       "<style scoped>\n",
       "    .dataframe tbody tr th:only-of-type {\n",
       "        vertical-align: middle;\n",
       "    }\n",
       "\n",
       "    .dataframe tbody tr th {\n",
       "        vertical-align: top;\n",
       "    }\n",
       "\n",
       "    .dataframe thead th {\n",
       "        text-align: right;\n",
       "    }\n",
       "</style>\n",
       "<table border=\"1\" class=\"dataframe\">\n",
       "  <thead>\n",
       "    <tr style=\"text-align: right;\">\n",
       "      <th></th>\n",
       "      <th>Absorbance</th>\n",
       "      <th>Reflectance</th>\n",
       "      <th>Fluoroscence</th>\n",
       "      <th>label</th>\n",
       "    </tr>\n",
       "  </thead>\n",
       "  <tbody>\n",
       "    <tr>\n",
       "      <th>0</th>\n",
       "      <td>-0.45</td>\n",
       "      <td>1.13</td>\n",
       "      <td>2.30</td>\n",
       "      <td>1</td>\n",
       "    </tr>\n",
       "    <tr>\n",
       "      <th>1</th>\n",
       "      <td>-0.45</td>\n",
       "      <td>1.07</td>\n",
       "      <td>2.39</td>\n",
       "      <td>1</td>\n",
       "    </tr>\n",
       "    <tr>\n",
       "      <th>2</th>\n",
       "      <td>-0.46</td>\n",
       "      <td>1.17</td>\n",
       "      <td>2.41</td>\n",
       "      <td>1</td>\n",
       "    </tr>\n",
       "    <tr>\n",
       "      <th>3</th>\n",
       "      <td>-0.47</td>\n",
       "      <td>1.16</td>\n",
       "      <td>2.39</td>\n",
       "      <td>1</td>\n",
       "    </tr>\n",
       "    <tr>\n",
       "      <th>4</th>\n",
       "      <td>-0.43</td>\n",
       "      <td>1.04</td>\n",
       "      <td>2.21</td>\n",
       "      <td>1</td>\n",
       "    </tr>\n",
       "  </tbody>\n",
       "</table>\n",
       "</div>"
      ],
      "text/plain": [
       "  Absorbance  Reflectance  Fluoroscence  label\n",
       "0      -0.45         1.13          2.30      1\n",
       "1      -0.45         1.07          2.39      1\n",
       "2      -0.46         1.17          2.41      1\n",
       "3      -0.47         1.16          2.39      1\n",
       "4      -0.43         1.04          2.21      1"
      ]
     },
     "execution_count": 11,
     "metadata": {},
     "output_type": "execute_result"
    }
   ],
   "source": [
    "milk.head()"
   ]
  },
  {
   "cell_type": "code",
   "execution_count": 12,
   "id": "b99af069-7792-4494-ab28-1b4f7ee92025",
   "metadata": {},
   "outputs": [
    {
     "data": {
      "text/html": [
       "<div>\n",
       "<style scoped>\n",
       "    .dataframe tbody tr th:only-of-type {\n",
       "        vertical-align: middle;\n",
       "    }\n",
       "\n",
       "    .dataframe tbody tr th {\n",
       "        vertical-align: top;\n",
       "    }\n",
       "\n",
       "    .dataframe thead th {\n",
       "        text-align: right;\n",
       "    }\n",
       "</style>\n",
       "<table border=\"1\" class=\"dataframe\">\n",
       "  <thead>\n",
       "    <tr style=\"text-align: right;\">\n",
       "      <th></th>\n",
       "      <th>Absorbance</th>\n",
       "      <th>Reflectance</th>\n",
       "      <th>Fluoroscence</th>\n",
       "      <th>label</th>\n",
       "    </tr>\n",
       "  </thead>\n",
       "  <tbody>\n",
       "    <tr>\n",
       "      <th>152</th>\n",
       "      <td>-0.25</td>\n",
       "      <td>0.72</td>\n",
       "      <td>1.41</td>\n",
       "      <td>0</td>\n",
       "    </tr>\n",
       "    <tr>\n",
       "      <th>153</th>\n",
       "      <td>-0.28</td>\n",
       "      <td>0.74</td>\n",
       "      <td>1.27</td>\n",
       "      <td>0</td>\n",
       "    </tr>\n",
       "    <tr>\n",
       "      <th>154</th>\n",
       "      <td>-0.23</td>\n",
       "      <td>0.69</td>\n",
       "      <td>1.13</td>\n",
       "      <td>0</td>\n",
       "    </tr>\n",
       "    <tr>\n",
       "      <th>155</th>\n",
       "      <td>NaN</td>\n",
       "      <td>NaN</td>\n",
       "      <td>NaN</td>\n",
       "      <td>0</td>\n",
       "    </tr>\n",
       "    <tr>\n",
       "      <th>156</th>\n",
       "      <td></td>\n",
       "      <td>NaN</td>\n",
       "      <td>NaN</td>\n",
       "      <td>0</td>\n",
       "    </tr>\n",
       "  </tbody>\n",
       "</table>\n",
       "</div>"
      ],
      "text/plain": [
       "    Absorbance  Reflectance  Fluoroscence  label\n",
       "152      -0.25         0.72          1.41      0\n",
       "153      -0.28         0.74          1.27      0\n",
       "154      -0.23         0.69          1.13      0\n",
       "155        NaN          NaN           NaN      0\n",
       "156                     NaN           NaN      0"
      ]
     },
     "execution_count": 12,
     "metadata": {},
     "output_type": "execute_result"
    }
   ],
   "source": [
    "milk.tail()"
   ]
  },
  {
   "cell_type": "code",
   "execution_count": 13,
   "id": "ff665797-45af-4638-81d1-1e0a6b00d5bf",
   "metadata": {},
   "outputs": [
    {
     "data": {
      "text/plain": [
       "Absorbance      1\n",
       "Reflectance     3\n",
       "Fluoroscence    3\n",
       "label           0\n",
       "dtype: int64"
      ]
     },
     "execution_count": 13,
     "metadata": {},
     "output_type": "execute_result"
    }
   ],
   "source": [
    "milk.isnull().sum()"
   ]
  },
  {
   "cell_type": "code",
   "execution_count": 14,
   "id": "6d488cf1-dee7-4515-b822-d15ccb9e6119",
   "metadata": {},
   "outputs": [],
   "source": [
    "\n",
    "milk.dropna(inplace=True)\n"
   ]
  },
  {
   "cell_type": "code",
   "execution_count": 15,
   "id": "ee0e9dd4-2a1c-4d36-a2e1-6a8f48a69622",
   "metadata": {},
   "outputs": [
    {
     "data": {
      "text/plain": [
       "Absorbance      0\n",
       "Reflectance     0\n",
       "Fluoroscence    0\n",
       "label           0\n",
       "dtype: int64"
      ]
     },
     "execution_count": 15,
     "metadata": {},
     "output_type": "execute_result"
    }
   ],
   "source": [
    "milk.isnull().sum()"
   ]
  },
  {
   "cell_type": "code",
   "execution_count": 16,
   "id": "573e2482-d879-4d50-9c58-f28fcbc67f2c",
   "metadata": {},
   "outputs": [
    {
     "data": {
      "text/html": [
       "<div>\n",
       "<style scoped>\n",
       "    .dataframe tbody tr th:only-of-type {\n",
       "        vertical-align: middle;\n",
       "    }\n",
       "\n",
       "    .dataframe tbody tr th {\n",
       "        vertical-align: top;\n",
       "    }\n",
       "\n",
       "    .dataframe thead th {\n",
       "        text-align: right;\n",
       "    }\n",
       "</style>\n",
       "<table border=\"1\" class=\"dataframe\">\n",
       "  <thead>\n",
       "    <tr style=\"text-align: right;\">\n",
       "      <th></th>\n",
       "      <th>Absorbance</th>\n",
       "      <th>Reflectance</th>\n",
       "      <th>Fluoroscence</th>\n",
       "      <th>label</th>\n",
       "    </tr>\n",
       "  </thead>\n",
       "  <tbody>\n",
       "    <tr>\n",
       "      <th>0</th>\n",
       "      <td>-0.45</td>\n",
       "      <td>1.13</td>\n",
       "      <td>2.30</td>\n",
       "      <td>1</td>\n",
       "    </tr>\n",
       "    <tr>\n",
       "      <th>1</th>\n",
       "      <td>-0.45</td>\n",
       "      <td>1.07</td>\n",
       "      <td>2.39</td>\n",
       "      <td>1</td>\n",
       "    </tr>\n",
       "    <tr>\n",
       "      <th>2</th>\n",
       "      <td>-0.46</td>\n",
       "      <td>1.17</td>\n",
       "      <td>2.41</td>\n",
       "      <td>1</td>\n",
       "    </tr>\n",
       "    <tr>\n",
       "      <th>3</th>\n",
       "      <td>-0.47</td>\n",
       "      <td>1.16</td>\n",
       "      <td>2.39</td>\n",
       "      <td>1</td>\n",
       "    </tr>\n",
       "    <tr>\n",
       "      <th>4</th>\n",
       "      <td>-0.43</td>\n",
       "      <td>1.04</td>\n",
       "      <td>2.21</td>\n",
       "      <td>1</td>\n",
       "    </tr>\n",
       "  </tbody>\n",
       "</table>\n",
       "</div>"
      ],
      "text/plain": [
       "  Absorbance  Reflectance  Fluoroscence  label\n",
       "0      -0.45         1.13          2.30      1\n",
       "1      -0.45         1.07          2.39      1\n",
       "2      -0.46         1.17          2.41      1\n",
       "3      -0.47         1.16          2.39      1\n",
       "4      -0.43         1.04          2.21      1"
      ]
     },
     "execution_count": 16,
     "metadata": {},
     "output_type": "execute_result"
    }
   ],
   "source": [
    "milk.head()"
   ]
  },
  {
   "cell_type": "code",
   "execution_count": 17,
   "id": "8b5b24a7-5a11-45df-830b-b0739c7a71b7",
   "metadata": {},
   "outputs": [],
   "source": [
    "milk=milk.sample(frac=1)  "
   ]
  },
  {
   "cell_type": "code",
   "execution_count": 18,
   "id": "d383909a-0bce-407a-9772-e8a768f19a4f",
   "metadata": {},
   "outputs": [
    {
     "data": {
      "text/html": [
       "<div>\n",
       "<style scoped>\n",
       "    .dataframe tbody tr th:only-of-type {\n",
       "        vertical-align: middle;\n",
       "    }\n",
       "\n",
       "    .dataframe tbody tr th {\n",
       "        vertical-align: top;\n",
       "    }\n",
       "\n",
       "    .dataframe thead th {\n",
       "        text-align: right;\n",
       "    }\n",
       "</style>\n",
       "<table border=\"1\" class=\"dataframe\">\n",
       "  <thead>\n",
       "    <tr style=\"text-align: right;\">\n",
       "      <th></th>\n",
       "      <th>Absorbance</th>\n",
       "      <th>Reflectance</th>\n",
       "      <th>Fluoroscence</th>\n",
       "      <th>label</th>\n",
       "    </tr>\n",
       "  </thead>\n",
       "  <tbody>\n",
       "    <tr>\n",
       "      <th>30</th>\n",
       "      <td>-0.45</td>\n",
       "      <td>1.16</td>\n",
       "      <td>2.26</td>\n",
       "      <td>1</td>\n",
       "    </tr>\n",
       "    <tr>\n",
       "      <th>150</th>\n",
       "      <td>-0.44</td>\n",
       "      <td>1.17</td>\n",
       "      <td>2.24</td>\n",
       "      <td>1</td>\n",
       "    </tr>\n",
       "    <tr>\n",
       "      <th>168</th>\n",
       "      <td>-0.48</td>\n",
       "      <td>1.29</td>\n",
       "      <td>2.68</td>\n",
       "      <td>1</td>\n",
       "    </tr>\n",
       "    <tr>\n",
       "      <th>11</th>\n",
       "      <td>-0.26</td>\n",
       "      <td>0.69</td>\n",
       "      <td>1.27</td>\n",
       "      <td>0</td>\n",
       "    </tr>\n",
       "    <tr>\n",
       "      <th>130</th>\n",
       "      <td>-0.49</td>\n",
       "      <td>1.18</td>\n",
       "      <td>2.37</td>\n",
       "      <td>1</td>\n",
       "    </tr>\n",
       "  </tbody>\n",
       "</table>\n",
       "</div>"
      ],
      "text/plain": [
       "    Absorbance  Reflectance  Fluoroscence  label\n",
       "30       -0.45         1.16          2.26      1\n",
       "150      -0.44         1.17          2.24      1\n",
       "168      -0.48         1.29          2.68      1\n",
       "11       -0.26         0.69          1.27      0\n",
       "130      -0.49         1.18          2.37      1"
      ]
     },
     "execution_count": 18,
     "metadata": {},
     "output_type": "execute_result"
    }
   ],
   "source": [
    "milk.head()"
   ]
  },
  {
   "cell_type": "code",
   "execution_count": 19,
   "id": "7b5ec60e-3b8d-4b7c-a18c-0ba54e7f129c",
   "metadata": {},
   "outputs": [],
   "source": [
    "milk.reset_index(inplace=True)"
   ]
  },
  {
   "cell_type": "code",
   "execution_count": 20,
   "id": "5e8d145b-c3b3-43dd-a56c-25c89302b12a",
   "metadata": {},
   "outputs": [
    {
     "data": {
      "text/html": [
       "<div>\n",
       "<style scoped>\n",
       "    .dataframe tbody tr th:only-of-type {\n",
       "        vertical-align: middle;\n",
       "    }\n",
       "\n",
       "    .dataframe tbody tr th {\n",
       "        vertical-align: top;\n",
       "    }\n",
       "\n",
       "    .dataframe thead th {\n",
       "        text-align: right;\n",
       "    }\n",
       "</style>\n",
       "<table border=\"1\" class=\"dataframe\">\n",
       "  <thead>\n",
       "    <tr style=\"text-align: right;\">\n",
       "      <th></th>\n",
       "      <th>index</th>\n",
       "      <th>Absorbance</th>\n",
       "      <th>Reflectance</th>\n",
       "      <th>Fluoroscence</th>\n",
       "      <th>label</th>\n",
       "    </tr>\n",
       "  </thead>\n",
       "  <tbody>\n",
       "    <tr>\n",
       "      <th>0</th>\n",
       "      <td>30</td>\n",
       "      <td>-0.45</td>\n",
       "      <td>1.16</td>\n",
       "      <td>2.26</td>\n",
       "      <td>1</td>\n",
       "    </tr>\n",
       "    <tr>\n",
       "      <th>1</th>\n",
       "      <td>150</td>\n",
       "      <td>-0.44</td>\n",
       "      <td>1.17</td>\n",
       "      <td>2.24</td>\n",
       "      <td>1</td>\n",
       "    </tr>\n",
       "    <tr>\n",
       "      <th>2</th>\n",
       "      <td>168</td>\n",
       "      <td>-0.48</td>\n",
       "      <td>1.29</td>\n",
       "      <td>2.68</td>\n",
       "      <td>1</td>\n",
       "    </tr>\n",
       "    <tr>\n",
       "      <th>3</th>\n",
       "      <td>11</td>\n",
       "      <td>-0.26</td>\n",
       "      <td>0.69</td>\n",
       "      <td>1.27</td>\n",
       "      <td>0</td>\n",
       "    </tr>\n",
       "    <tr>\n",
       "      <th>4</th>\n",
       "      <td>130</td>\n",
       "      <td>-0.49</td>\n",
       "      <td>1.18</td>\n",
       "      <td>2.37</td>\n",
       "      <td>1</td>\n",
       "    </tr>\n",
       "  </tbody>\n",
       "</table>\n",
       "</div>"
      ],
      "text/plain": [
       "   index Absorbance  Reflectance  Fluoroscence  label\n",
       "0     30      -0.45         1.16          2.26      1\n",
       "1    150      -0.44         1.17          2.24      1\n",
       "2    168      -0.48         1.29          2.68      1\n",
       "3     11      -0.26         0.69          1.27      0\n",
       "4    130      -0.49         1.18          2.37      1"
      ]
     },
     "execution_count": 20,
     "metadata": {},
     "output_type": "execute_result"
    }
   ],
   "source": [
    "milk.head()"
   ]
  },
  {
   "cell_type": "code",
   "execution_count": 21,
   "id": "b02a09e7-e16d-45ca-af2c-e56926d3030d",
   "metadata": {},
   "outputs": [],
   "source": [
    "milk.drop(['index'],axis=1,inplace=True)"
   ]
  },
  {
   "cell_type": "code",
   "execution_count": 22,
   "id": "146f3cc5-382f-4d3a-adbe-d3665b133952",
   "metadata": {},
   "outputs": [
    {
     "data": {
      "text/html": [
       "<div>\n",
       "<style scoped>\n",
       "    .dataframe tbody tr th:only-of-type {\n",
       "        vertical-align: middle;\n",
       "    }\n",
       "\n",
       "    .dataframe tbody tr th {\n",
       "        vertical-align: top;\n",
       "    }\n",
       "\n",
       "    .dataframe thead th {\n",
       "        text-align: right;\n",
       "    }\n",
       "</style>\n",
       "<table border=\"1\" class=\"dataframe\">\n",
       "  <thead>\n",
       "    <tr style=\"text-align: right;\">\n",
       "      <th></th>\n",
       "      <th>Absorbance</th>\n",
       "      <th>Reflectance</th>\n",
       "      <th>Fluoroscence</th>\n",
       "      <th>label</th>\n",
       "    </tr>\n",
       "  </thead>\n",
       "  <tbody>\n",
       "    <tr>\n",
       "      <th>0</th>\n",
       "      <td>-0.45</td>\n",
       "      <td>1.16</td>\n",
       "      <td>2.26</td>\n",
       "      <td>1</td>\n",
       "    </tr>\n",
       "    <tr>\n",
       "      <th>1</th>\n",
       "      <td>-0.44</td>\n",
       "      <td>1.17</td>\n",
       "      <td>2.24</td>\n",
       "      <td>1</td>\n",
       "    </tr>\n",
       "    <tr>\n",
       "      <th>2</th>\n",
       "      <td>-0.48</td>\n",
       "      <td>1.29</td>\n",
       "      <td>2.68</td>\n",
       "      <td>1</td>\n",
       "    </tr>\n",
       "    <tr>\n",
       "      <th>3</th>\n",
       "      <td>-0.26</td>\n",
       "      <td>0.69</td>\n",
       "      <td>1.27</td>\n",
       "      <td>0</td>\n",
       "    </tr>\n",
       "    <tr>\n",
       "      <th>4</th>\n",
       "      <td>-0.49</td>\n",
       "      <td>1.18</td>\n",
       "      <td>2.37</td>\n",
       "      <td>1</td>\n",
       "    </tr>\n",
       "  </tbody>\n",
       "</table>\n",
       "</div>"
      ],
      "text/plain": [
       "  Absorbance  Reflectance  Fluoroscence  label\n",
       "0      -0.45         1.16          2.26      1\n",
       "1      -0.44         1.17          2.24      1\n",
       "2      -0.48         1.29          2.68      1\n",
       "3      -0.26         0.69          1.27      0\n",
       "4      -0.49         1.18          2.37      1"
      ]
     },
     "execution_count": 22,
     "metadata": {},
     "output_type": "execute_result"
    }
   ],
   "source": [
    "milk.head()"
   ]
  },
  {
   "cell_type": "code",
   "execution_count": 23,
   "id": "9b47ba01-af8d-461a-849f-406456cc0172",
   "metadata": {},
   "outputs": [
    {
     "name": "stdout",
     "output_type": "stream",
     "text": [
      "Number of rows = 338\n",
      "Number of columns = 4\n"
     ]
    }
   ],
   "source": [
    "print(f\"Number of rows = {milk.shape[0]}\")\n",
    "print(f\"Number of columns = {milk.shape[1]}\")"
   ]
  },
  {
   "cell_type": "code",
   "execution_count": 24,
   "id": "174de629-602b-4752-a0b9-705d29396893",
   "metadata": {},
   "outputs": [
    {
     "name": "stdout",
     "output_type": "stream",
     "text": [
      "List of columns : \n",
      " ['Absorbance', 'Reflectance', 'Fluoroscence', 'label']\n"
     ]
    }
   ],
   "source": [
    "print(\"List of columns : \\n\",list(milk.columns))"
   ]
  },
  {
   "cell_type": "code",
   "execution_count": 25,
   "id": "50fbdc28-57ce-40a9-b8d1-efac5dd24d85",
   "metadata": {},
   "outputs": [
    {
     "name": "stdout",
     "output_type": "stream",
     "text": [
      "Data types of columns :\n",
      " Absorbance       object\n",
      "Reflectance     float64\n",
      "Fluoroscence    float64\n",
      "label             int64\n",
      "dtype: object\n"
     ]
    }
   ],
   "source": [
    "print(\"Data types of columns :\\n\",milk.dtypes)"
   ]
  },
  {
   "cell_type": "code",
   "execution_count": 26,
   "id": "b5e8367f-4b69-494d-ad68-6a9c11b2a4df",
   "metadata": {},
   "outputs": [
    {
     "name": "stdout",
     "output_type": "stream",
     "text": [
      "<class 'pandas.core.frame.DataFrame'>\n",
      "RangeIndex: 338 entries, 0 to 337\n",
      "Data columns (total 4 columns):\n",
      " #   Column        Non-Null Count  Dtype  \n",
      "---  ------        --------------  -----  \n",
      " 0   Absorbance    338 non-null    object \n",
      " 1   Reflectance   338 non-null    float64\n",
      " 2   Fluoroscence  338 non-null    float64\n",
      " 3   label         338 non-null    int64  \n",
      "dtypes: float64(2), int64(1), object(1)\n",
      "memory usage: 10.7+ KB\n",
      "Data Information :\n",
      " None\n"
     ]
    }
   ],
   "source": [
    "print(\"Data Information :\\n\",milk.info())"
   ]
  },
  {
   "cell_type": "code",
   "execution_count": 27,
   "id": "6995e3b7-99e5-43db-b4e4-6a25699d045b",
   "metadata": {},
   "outputs": [
    {
     "name": "stdout",
     "output_type": "stream",
     "text": [
      "Checking for duplicate records/rows :\n",
      "\n",
      "Duplicate rows in Datasets\n"
     ]
    }
   ],
   "source": [
    "print(\"Checking for duplicate records/rows :\\n\")\n",
    "if milk.duplicated().any():\n",
    "    print(\"Duplicate rows in Datasets\")\n",
    "else:\n",
    "    print(\"No Duplicates in dataset\")"
   ]
  },
  {
   "cell_type": "code",
   "execution_count": 28,
   "id": "bb542055-258b-43ea-9f2e-fdcff17934e5",
   "metadata": {},
   "outputs": [
    {
     "name": "stdout",
     "output_type": "stream",
     "text": [
      "Drop Duplicate\n",
      "Dataset after dropping the duplicates\n"
     ]
    },
    {
     "data": {
      "text/plain": [
       "(329, 4)"
      ]
     },
     "execution_count": 28,
     "metadata": {},
     "output_type": "execute_result"
    }
   ],
   "source": [
    "print(\"Drop Duplicate\")\n",
    "milk1=milk.drop_duplicates()\n",
    "print(\"Dataset after dropping the duplicates\")\n",
    "milk1.shape"
   ]
  },
  {
   "cell_type": "code",
   "execution_count": 29,
   "id": "9f9c2fdb-f7ff-4192-84da-6f34f4a4cf5d",
   "metadata": {},
   "outputs": [
    {
     "name": "stdout",
     "output_type": "stream",
     "text": [
      "Checking for missing values in dataset\n"
     ]
    },
    {
     "data": {
      "text/plain": [
       "Absorbance      0\n",
       "Reflectance     0\n",
       "Fluoroscence    0\n",
       "label           0\n",
       "dtype: int64"
      ]
     },
     "execution_count": 29,
     "metadata": {},
     "output_type": "execute_result"
    }
   ],
   "source": [
    "print(\"Checking for missing values in dataset\")\n",
    "milk1.isnull().sum()"
   ]
  },
  {
   "cell_type": "code",
   "execution_count": 30,
   "id": "2b27c7b8-1d7e-42b3-a2f1-432e557f1a50",
   "metadata": {},
   "outputs": [
    {
     "name": "stdout",
     "output_type": "stream",
     "text": [
      "Statistical measure of the numeric columns/features:\n"
     ]
    },
    {
     "data": {
      "text/html": [
       "<div>\n",
       "<style scoped>\n",
       "    .dataframe tbody tr th:only-of-type {\n",
       "        vertical-align: middle;\n",
       "    }\n",
       "\n",
       "    .dataframe tbody tr th {\n",
       "        vertical-align: top;\n",
       "    }\n",
       "\n",
       "    .dataframe thead th {\n",
       "        text-align: right;\n",
       "    }\n",
       "</style>\n",
       "<table border=\"1\" class=\"dataframe\">\n",
       "  <thead>\n",
       "    <tr style=\"text-align: right;\">\n",
       "      <th></th>\n",
       "      <th>Reflectance</th>\n",
       "      <th>Fluoroscence</th>\n",
       "      <th>label</th>\n",
       "    </tr>\n",
       "  </thead>\n",
       "  <tbody>\n",
       "    <tr>\n",
       "      <th>count</th>\n",
       "      <td>329.000000</td>\n",
       "      <td>329.000000</td>\n",
       "      <td>329.000000</td>\n",
       "    </tr>\n",
       "    <tr>\n",
       "      <th>mean</th>\n",
       "      <td>0.978541</td>\n",
       "      <td>1.935228</td>\n",
       "      <td>0.544073</td>\n",
       "    </tr>\n",
       "    <tr>\n",
       "      <th>std</th>\n",
       "      <td>0.300064</td>\n",
       "      <td>0.728859</td>\n",
       "      <td>0.498812</td>\n",
       "    </tr>\n",
       "    <tr>\n",
       "      <th>min</th>\n",
       "      <td>0.520000</td>\n",
       "      <td>0.760000</td>\n",
       "      <td>0.000000</td>\n",
       "    </tr>\n",
       "    <tr>\n",
       "      <th>25%</th>\n",
       "      <td>0.680000</td>\n",
       "      <td>1.200000</td>\n",
       "      <td>0.000000</td>\n",
       "    </tr>\n",
       "    <tr>\n",
       "      <th>50%</th>\n",
       "      <td>1.110000</td>\n",
       "      <td>2.270000</td>\n",
       "      <td>1.000000</td>\n",
       "    </tr>\n",
       "    <tr>\n",
       "      <th>75%</th>\n",
       "      <td>1.180000</td>\n",
       "      <td>2.460000</td>\n",
       "      <td>1.000000</td>\n",
       "    </tr>\n",
       "    <tr>\n",
       "      <th>max</th>\n",
       "      <td>2.000000</td>\n",
       "      <td>4.500000</td>\n",
       "      <td>1.000000</td>\n",
       "    </tr>\n",
       "  </tbody>\n",
       "</table>\n",
       "</div>"
      ],
      "text/plain": [
       "       Reflectance  Fluoroscence       label\n",
       "count   329.000000    329.000000  329.000000\n",
       "mean      0.978541      1.935228    0.544073\n",
       "std       0.300064      0.728859    0.498812\n",
       "min       0.520000      0.760000    0.000000\n",
       "25%       0.680000      1.200000    0.000000\n",
       "50%       1.110000      2.270000    1.000000\n",
       "75%       1.180000      2.460000    1.000000\n",
       "max       2.000000      4.500000    1.000000"
      ]
     },
     "execution_count": 30,
     "metadata": {},
     "output_type": "execute_result"
    }
   ],
   "source": [
    "print(\"Statistical measure of the numeric columns/features:\")\n",
    "milk1.describe()"
   ]
  },
  {
   "cell_type": "code",
   "execution_count": 31,
   "id": "cb085373-05e8-457f-bf02-e42509bb2bd7",
   "metadata": {},
   "outputs": [],
   "source": [
    "numeric_data = milk1.select_dtypes(include=[np.number])\n",
    "grouped_mean = numeric_data.groupby(milk1['label']).mean().T\n"
   ]
  },
  {
   "cell_type": "code",
   "execution_count": 32,
   "id": "bdaa7713-8939-4cf0-a630-883579d5ea98",
   "metadata": {},
   "outputs": [
    {
     "name": "stdout",
     "output_type": "stream",
     "text": [
      "label                0         1\n",
      "Absorbance   -0.228333 -0.469888\n",
      "Reflectance   0.733467  1.183911\n",
      "Fluoroscence    1.3108  2.458492\n"
     ]
    }
   ],
   "source": [
    "# Convert all columns to numeric using .loc to avoid the SettingWithCopyWarning\n",
    "for col in milk1.columns:\n",
    "    milk1.loc[:, col] = pd.to_numeric(milk1[col], errors='coerce')\n",
    "\n",
    "\n",
    "# Group by the 'label' column and calculate the mean\n",
    "grouped_milk = milk1.groupby('label').mean().T\n",
    "\n",
    "print(grouped_milk)\n"
   ]
  },
  {
   "cell_type": "code",
   "execution_count": 33,
   "id": "3e12d89d-275d-4ac3-b710-b32cbc682c17",
   "metadata": {},
   "outputs": [
    {
     "name": "stdout",
     "output_type": "stream",
     "text": [
      "Unique values in columns :\n",
      "Absorbance\n",
      "-0.47    29\n",
      "-0.45    27\n",
      "-0.44    23\n",
      "-0.22    22\n",
      "-0.46    22\n",
      "-0.48    21\n",
      "-0.23    18\n",
      "-0.49    16\n",
      "-0.24    13\n",
      "-0.2     12\n",
      "-0.25    11\n",
      "-0.19    11\n",
      "-0.21    11\n",
      "-0.26    10\n",
      "-0.43     8\n",
      "-0.13     8\n",
      "-0.5      8\n",
      "-0.42     7\n",
      "-0.52     7\n",
      "-0.51     6\n",
      "-0.16     5\n",
      "-0.27     5\n",
      "-0.28     5\n",
      "-0.54     5\n",
      "-0.18     4\n",
      "-0.14     2\n",
      "-0.33     2\n",
      "-0.38     2\n",
      "-0.36     1\n",
      "-0.57     1\n",
      "-0.29     1\n",
      "-0.35     1\n",
      "-0.3      1\n",
      "-0.32     1\n",
      "-0.08     1\n",
      "-0.53     1\n",
      "-0.58     1\n",
      "Name: count, dtype: int64\n",
      "---------------------------\n",
      "\n",
      "Reflectance\n",
      "0.69    20\n",
      "1.17    15\n",
      "1.18    14\n",
      "1.16    12\n",
      "0.64    12\n",
      "        ..\n",
      "0.79     1\n",
      "1.99     1\n",
      "1.29     1\n",
      "0.88     1\n",
      "0.84     1\n",
      "Name: count, Length: 69, dtype: int64\n",
      "---------------------------\n",
      "\n",
      "Fluoroscence\n",
      "1.24    8\n",
      "2.33    8\n",
      "1.20    8\n",
      "2.38    7\n",
      "1.18    7\n",
      "       ..\n",
      "1.36    1\n",
      "0.84    1\n",
      "2.06    1\n",
      "2.20    1\n",
      "2.52    1\n",
      "Name: count, Length: 129, dtype: int64\n",
      "---------------------------\n",
      "\n",
      "label\n",
      "1    179\n",
      "0    150\n",
      "Name: count, dtype: int64\n",
      "---------------------------\n",
      "\n"
     ]
    }
   ],
   "source": [
    "print(\"Unique values in columns :\")\n",
    "for col in milk1.columns:\n",
    "    print(milk1[col].value_counts())\n",
    "    print(\"---------------------------\")\n",
    "    print(\"\")"
   ]
  },
  {
   "cell_type": "code",
   "execution_count": 34,
   "id": "97f995a8-ee08-453e-b80b-84388c9c3d9d",
   "metadata": {},
   "outputs": [
    {
     "data": {
      "text/plain": [
       "Index(['Absorbance', 'Reflectance', 'Fluoroscence', 'label'], dtype='object')"
      ]
     },
     "execution_count": 34,
     "metadata": {},
     "output_type": "execute_result"
    }
   ],
   "source": [
    "milk1.columns"
   ]
  },
  {
   "cell_type": "code",
   "execution_count": 35,
   "id": "0ce9d427-9bc3-44e9-9759-d8f357bc49ea",
   "metadata": {},
   "outputs": [
    {
     "data": {
      "image/png": "[encoded data removed]",
      "text/plain": [
       "<Figure size 640x480 with 1 Axes>"
      ]
     },
     "metadata": {},
     "output_type": "display_data"
    },
    {
     "data": {
      "image/png": "[encoded data removed]",
      "text/plain": [
       "<Figure size 640x480 with 1 Axes>"
      ]
     },
     "metadata": {},
     "output_type": "display_data"
    },
    {
     "data": {
      "image/png": "[encoded data removed]",
      "text/plain": [
       "<Figure size 640x480 with 1 Axes>"
      ]
     },
     "metadata": {},
     "output_type": "display_data"
    }
   ],
   "source": [
    "cols=['Absorbance', 'Reflectance', 'Fluoroscence']\n",
    "\n",
    "\n",
    "# Plot each feature with respect to the label\n",
    "for col in cols:\n",
    "    # Group by 'label' and calculate the mean of each feature\n",
    "    grouped = milk1.groupby('label')[col].mean()\n",
    "    \n",
    "    # Create a bar plot\n",
    "    grouped.plot(kind='bar', legend=False)\n",
    "    \n",
    "    plt.title(f'Mean {col} by Label')\n",
    "    plt.xlabel('Label')\n",
    "    plt.ylabel(col)\n",
    "    plt.xticks(ticks=[0, 1], labels=['0', '1'], rotation=0)  # Set x-axis labels\n",
    "    plt.show()"
   ]
  },
  {
   "cell_type": "code",
   "execution_count": 36,
   "id": "94993198-5723-497c-8e64-632545425a5e",
   "metadata": {},
   "outputs": [
    {
     "data": {
      "text/html": [
       "<div>\n",
       "<style scoped>\n",
       "    .dataframe tbody tr th:only-of-type {\n",
       "        vertical-align: middle;\n",
       "    }\n",
       "\n",
       "    .dataframe tbody tr th {\n",
       "        vertical-align: top;\n",
       "    }\n",
       "\n",
       "    .dataframe thead th {\n",
       "        text-align: right;\n",
       "    }\n",
       "</style>\n",
       "<table border=\"1\" class=\"dataframe\">\n",
       "  <thead>\n",
       "    <tr style=\"text-align: right;\">\n",
       "      <th></th>\n",
       "      <th>Absorbance</th>\n",
       "      <th>Reflectance</th>\n",
       "      <th>Fluoroscence</th>\n",
       "      <th>label</th>\n",
       "    </tr>\n",
       "  </thead>\n",
       "  <tbody>\n",
       "    <tr>\n",
       "      <th>0</th>\n",
       "      <td>-0.45</td>\n",
       "      <td>1.16</td>\n",
       "      <td>2.26</td>\n",
       "      <td>1</td>\n",
       "    </tr>\n",
       "    <tr>\n",
       "      <th>1</th>\n",
       "      <td>-0.44</td>\n",
       "      <td>1.17</td>\n",
       "      <td>2.24</td>\n",
       "      <td>1</td>\n",
       "    </tr>\n",
       "    <tr>\n",
       "      <th>2</th>\n",
       "      <td>-0.48</td>\n",
       "      <td>1.29</td>\n",
       "      <td>2.68</td>\n",
       "      <td>1</td>\n",
       "    </tr>\n",
       "    <tr>\n",
       "      <th>3</th>\n",
       "      <td>-0.26</td>\n",
       "      <td>0.69</td>\n",
       "      <td>1.27</td>\n",
       "      <td>0</td>\n",
       "    </tr>\n",
       "    <tr>\n",
       "      <th>4</th>\n",
       "      <td>-0.49</td>\n",
       "      <td>1.18</td>\n",
       "      <td>2.37</td>\n",
       "      <td>1</td>\n",
       "    </tr>\n",
       "  </tbody>\n",
       "</table>\n",
       "</div>"
      ],
      "text/plain": [
       "  Absorbance  Reflectance  Fluoroscence  label\n",
       "0      -0.45         1.16          2.26      1\n",
       "1      -0.44         1.17          2.24      1\n",
       "2      -0.48         1.29          2.68      1\n",
       "3      -0.26         0.69          1.27      0\n",
       "4      -0.49         1.18          2.37      1"
      ]
     },
     "execution_count": 36,
     "metadata": {},
     "output_type": "execute_result"
    }
   ],
   "source": [
    "milk1.head()"
   ]
  },
  {
   "cell_type": "code",
   "execution_count": 37,
   "id": "35c537d7-1385-4a79-8fb5-d7e37b95bed6",
   "metadata": {},
   "outputs": [
    {
     "name": "stdout",
     "output_type": "stream",
     "text": [
      "x-Features and y-labels\n",
      "  Absorbance  Reflectance  Fluoroscence\n",
      "0      -0.45         1.16          2.26\n",
      "1      -0.44         1.17          2.24\n",
      "2      -0.48         1.29          2.68\n",
      "3      -0.26         0.69          1.27\n",
      "4      -0.49         1.18          2.37\n",
      "\n",
      "y-label\n",
      "0    1\n",
      "1    1\n",
      "2    1\n",
      "3    0\n",
      "4    1\n",
      "Name: label, dtype: int64\n"
     ]
    }
   ],
   "source": [
    "print(\"x-Features and y-labels\")\n",
    "X=milk1.drop('label',axis=1)\n",
    "y=milk1.label\n",
    "print(X.head())\n",
    "print(\"\")\n",
    "print(\"y-label\")\n",
    "print(y.head())"
   ]
  },
  {
   "cell_type": "code",
   "execution_count": 38,
   "id": "a088339c-6d40-48ae-9f25-2a6118dedcef",
   "metadata": {},
   "outputs": [
    {
     "name": "stdout",
     "output_type": "stream",
     "text": [
      "Splitting the data into training and testing\n",
      "Training size = (263, 3)\n",
      "Testing size = (66, 3)\n"
     ]
    }
   ],
   "source": [
    "print(\"Splitting the data into training and testing\")\n",
    "from sklearn.model_selection import train_test_split\n",
    "x_train,x_test,y_train,y_test=train_test_split(X,y,test_size=0.2,random_state=42,stratify=y)\n",
    "print(\"Training size =\",x_train.shape)\n",
    "print(\"Testing size =\",x_test.shape)"
   ]
  },
  {
   "cell_type": "code",
   "execution_count": 39,
   "id": "4da928d1-0b8c-4e6d-bcbc-2a801dc7085b",
   "metadata": {},
   "outputs": [],
   "source": [
    "from sklearn.linear_model import LogisticRegression\n",
    "from sklearn.tree import DecisionTreeClassifier\n",
    "from sklearn.ensemble import RandomForestClassifier\n",
    "from sklearn.ensemble import ExtraTreesClassifier\n",
    "from sklearn.svm import SVC\n",
    "from sklearn.neighbors import KNeighborsClassifier\n",
    "from sklearn.ensemble import GradientBoostingClassifier\n",
    "from sklearn.ensemble import AdaBoostClassifier"
   ]
  },
  {
   "cell_type": "code",
   "execution_count": 40,
   "id": "31535fd4-6510-40ed-ab7f-d07b68719770",
   "metadata": {},
   "outputs": [],
   "source": [
    "from sklearn.metrics import confusion_matrix\n",
    "from sklearn.metrics import accuracy_score\n",
    "from sklearn.metrics import f1_score\n",
    "from sklearn.metrics import classification_report\n",
    "from sklearn.model_selection import cross_val_score"
   ]
  },
  {
   "cell_type": "code",
   "execution_count": 41,
   "id": "e19d3d99-a2ef-4486-8caa-8de2b11443ad",
   "metadata": {},
   "outputs": [],
   "source": [
    "LR=LogisticRegression()\n",
    "DT=DecisionTreeClassifier()\n",
    "RF=RandomForestClassifier()\n",
    "ETC=ExtraTreesClassifier()\n",
    "SVM=SVC()\n",
    "KNN=KNeighborsClassifier()\n",
    "GBC= GradientBoostingClassifier()\n",
    "ABC=AdaBoostClassifier()\n"
   ]
  },
  {
   "cell_type": "code",
   "execution_count": 42,
   "id": "a14fa3b1-2168-4c77-8d15-27b7c0c1ac20",
   "metadata": {},
   "outputs": [
    {
     "name": "stdout",
     "output_type": "stream",
     "text": [
      "                        Model  Cross_val_Accuracy\n",
      "0          LogisticRegression           99.090909\n",
      "2      RandomForestClassifier           99.090909\n",
      "3        ExtraTreesClassifier           99.090909\n",
      "4                         SVC           99.090909\n",
      "7          AdaBoostClassifier           99.090909\n",
      "5        KNeighborsClassifier           98.787879\n",
      "6  GradientBoostingClassifier           98.787879\n",
      "1      DecisionTreeClassifier           98.484848\n"
     ]
    }
   ],
   "source": [
    "import warnings\n",
    "from sklearn.preprocessing import StandardScaler\n",
    "warnings.filterwarnings('ignore')\n",
    "models = [LR, DT, RF, ETC, SVM, KNN, GBC, ABC]\n",
    "\n",
    "# Assume X and y are your feature and label arrays\n",
    "features = X\n",
    "labels = y\n",
    "\n",
    "# Preprocess features\n",
    "scaler = StandardScaler()\n",
    "features_scaled = scaler.fit_transform(features)\n",
    "\n",
    "# Cross-validation setup\n",
    "CV = 5\n",
    "accu_list = []\n",
    "ModelName = []\n",
    "\n",
    "for model in models:\n",
    "    model_name = model.__class__.__name__\n",
    "    try:\n",
    "        accuracies = cross_val_score(model, features_scaled, labels, scoring='accuracy', cv=CV)\n",
    "        accu_list.append(accuracies.mean() * 100)\n",
    "        ModelName.append(model_name)\n",
    "    except ValueError as e:\n",
    "        print(f\"Error with {model.__class__.__name__}: {e}\")\n",
    "\n",
    "# Create DataFrame with results\n",
    "model_acc_df = pd.DataFrame({\"Model\": ModelName, \"Cross_val_Accuracy\": accu_list})\n",
    "\n",
    "# Sort DataFrame by accuracy in descending order\n",
    "model_acc_df = model_acc_df.sort_values('Cross_val_Accuracy', ascending=False)\n",
    "print(model_acc_df)"
   ]
  },
  {
   "cell_type": "code",
   "execution_count": 43,
   "id": "99993db2-0e8d-4457-988b-39ad0714b875",
   "metadata": {},
   "outputs": [
    {
     "name": "stdout",
     "output_type": "stream",
     "text": [
      "Requirement already satisfied: pyserial in c:\\users\\asus\\anaconda3\\lib\\site-packages (3.5)\n",
      "Requirement already satisfied: joblib in c:\\users\\asus\\anaconda3\\lib\\site-packages (1.2.0)\n",
      "Requirement already satisfied: scikit-learn in c:\\users\\asus\\anaconda3\\lib\\site-packages (1.2.2)\n",
      "Requirement already satisfied: pandas in c:\\users\\asus\\anaconda3\\lib\\site-packages (2.1.4)\n",
      "Requirement already satisfied: numpy>=1.17.3 in c:\\users\\asus\\anaconda3\\lib\\site-packages (from scikit-learn) (1.26.4)\n",
      "Requirement already satisfied: scipy>=1.3.2 in c:\\users\\asus\\anaconda3\\lib\\site-packages (from scikit-learn) (1.11.4)\n",
      "Requirement already satisfied: threadpoolctl>=2.0.0 in c:\\users\\asus\\anaconda3\\lib\\site-packages (from scikit-learn) (2.2.0)\n",
      "Requirement already satisfied: python-dateutil>=2.8.2 in c:\\users\\asus\\anaconda3\\lib\\site-packages (from pandas) (2.8.2)\n",
      "Requirement already satisfied: pytz>=2020.1 in c:\\users\\asus\\anaconda3\\lib\\site-packages (from pandas) (2023.3.post1)\n",
      "Requirement already satisfied: tzdata>=2022.1 in c:\\users\\asus\\anaconda3\\lib\\site-packages (from pandas) (2023.3)\n",
      "Requirement already satisfied: six>=1.5 in c:\\users\\asus\\anaconda3\\lib\\site-packages (from python-dateutil>=2.8.2->pandas) (1.16.0)\n",
      "Note: you may need to restart the kernel to use updated packages.\n"
     ]
    }
   ],
   "source": [
    "pip install pyserial joblib scikit-learn pandas\n"
   ]
  },
  {
   "cell_type": "code",
   "execution_count": 44,
   "id": "a459590c-d618-4a2f-bdc4-06a97e45dc6e",
   "metadata": {},
   "outputs": [
    {
     "ename": "SerialException",
     "evalue": "could not open port 'COM4': PermissionError(13, 'Access is denied.', None, 5)",
     "output_type": "error",
     "traceback": [
      "\u001b[1;31m---------------------------------------------------------------------------\u001b[0m",
      "\u001b[1;31mSerialException\u001b[0m                           Traceback (most recent call last)",
      "Cell \u001b[1;32mIn[44], line 12\u001b[0m\n\u001b[0;32m     10\u001b[0m serial_port \u001b[38;5;241m=\u001b[39m \u001b[38;5;124m'\u001b[39m\u001b[38;5;124mCOM4\u001b[39m\u001b[38;5;124m'\u001b[39m  \u001b[38;5;66;03m# Update with your Arduino port for Windows, or the appropriate port for macOS/Linux\u001b[39;00m\n\u001b[0;32m     11\u001b[0m baud_rate \u001b[38;5;241m=\u001b[39m \u001b[38;5;241m9600\u001b[39m\n\u001b[1;32m---> 12\u001b[0m ser \u001b[38;5;241m=\u001b[39m serial\u001b[38;5;241m.\u001b[39mSerial(serial_port, baud_rate)\n\u001b[0;32m     14\u001b[0m \u001b[38;5;66;03m# Setup feature scaler (ensure to use the same scaler as used during training)\u001b[39;00m\n\u001b[0;32m     15\u001b[0m scaler \u001b[38;5;241m=\u001b[39m StandardScaler()\n",
      "File \u001b[1;32m~\\anaconda3\\Lib\\site-packages\\serial\\serialwin32.py:33\u001b[0m, in \u001b[0;36mSerial.__init__\u001b[1;34m(self, *args, **kwargs)\u001b[0m\n\u001b[0;32m     31\u001b[0m \u001b[38;5;28mself\u001b[39m\u001b[38;5;241m.\u001b[39m_overlapped_read \u001b[38;5;241m=\u001b[39m \u001b[38;5;28;01mNone\u001b[39;00m\n\u001b[0;32m     32\u001b[0m \u001b[38;5;28mself\u001b[39m\u001b[38;5;241m.\u001b[39m_overlapped_write \u001b[38;5;241m=\u001b[39m \u001b[38;5;28;01mNone\u001b[39;00m\n\u001b[1;32m---> 33\u001b[0m \u001b[38;5;28msuper\u001b[39m(Serial, \u001b[38;5;28mself\u001b[39m)\u001b[38;5;241m.\u001b[39m\u001b[38;5;21m__init__\u001b[39m(\u001b[38;5;241m*\u001b[39margs, \u001b[38;5;241m*\u001b[39m\u001b[38;5;241m*\u001b[39mkwargs)\n",
      "File \u001b[1;32m~\\anaconda3\\Lib\\site-packages\\serial\\serialutil.py:244\u001b[0m, in \u001b[0;36mSerialBase.__init__\u001b[1;34m(self, port, baudrate, bytesize, parity, stopbits, timeout, xonxoff, rtscts, write_timeout, dsrdtr, inter_byte_timeout, exclusive, **kwargs)\u001b[0m\n\u001b[0;32m    241\u001b[0m     \u001b[38;5;28;01mraise\u001b[39;00m \u001b[38;5;167;01mValueError\u001b[39;00m(\u001b[38;5;124m'\u001b[39m\u001b[38;5;124munexpected keyword arguments: \u001b[39m\u001b[38;5;132;01m{!r}\u001b[39;00m\u001b[38;5;124m'\u001b[39m\u001b[38;5;241m.\u001b[39mformat(kwargs))\n\u001b[0;32m    243\u001b[0m \u001b[38;5;28;01mif\u001b[39;00m port \u001b[38;5;129;01mis\u001b[39;00m \u001b[38;5;129;01mnot\u001b[39;00m \u001b[38;5;28;01mNone\u001b[39;00m:\n\u001b[1;32m--> 244\u001b[0m     \u001b[38;5;28mself\u001b[39m\u001b[38;5;241m.\u001b[39mopen()\n",
      "File \u001b[1;32m~\\anaconda3\\Lib\\site-packages\\serial\\serialwin32.py:64\u001b[0m, in \u001b[0;36mSerial.open\u001b[1;34m(self)\u001b[0m\n\u001b[0;32m     62\u001b[0m \u001b[38;5;28;01mif\u001b[39;00m \u001b[38;5;28mself\u001b[39m\u001b[38;5;241m.\u001b[39m_port_handle \u001b[38;5;241m==\u001b[39m win32\u001b[38;5;241m.\u001b[39mINVALID_HANDLE_VALUE:\n\u001b[0;32m     63\u001b[0m     \u001b[38;5;28mself\u001b[39m\u001b[38;5;241m.\u001b[39m_port_handle \u001b[38;5;241m=\u001b[39m \u001b[38;5;28;01mNone\u001b[39;00m    \u001b[38;5;66;03m# 'cause __del__ is called anyway\u001b[39;00m\n\u001b[1;32m---> 64\u001b[0m     \u001b[38;5;28;01mraise\u001b[39;00m SerialException(\u001b[38;5;124m\"\u001b[39m\u001b[38;5;124mcould not open port \u001b[39m\u001b[38;5;132;01m{!r}\u001b[39;00m\u001b[38;5;124m: \u001b[39m\u001b[38;5;132;01m{!r}\u001b[39;00m\u001b[38;5;124m\"\u001b[39m\u001b[38;5;241m.\u001b[39mformat(\u001b[38;5;28mself\u001b[39m\u001b[38;5;241m.\u001b[39mportstr, ctypes\u001b[38;5;241m.\u001b[39mWinError()))\n\u001b[0;32m     66\u001b[0m \u001b[38;5;28;01mtry\u001b[39;00m:\n\u001b[0;32m     67\u001b[0m     \u001b[38;5;28mself\u001b[39m\u001b[38;5;241m.\u001b[39m_overlapped_read \u001b[38;5;241m=\u001b[39m win32\u001b[38;5;241m.\u001b[39mOVERLAPPED()\n",
      "\u001b[1;31mSerialException\u001b[0m: could not open port 'COM4': PermissionError(13, 'Access is denied.', None, 5)"
     ]
    }
   ],
   "source": [
    "import serial\n",
    "import joblib\n",
    "import pandas as pd\n",
    "from sklearn.preprocessing import StandardScaler\n",
    "\n",
    "# Load the model\n",
    "model = joblib.load('milk_freshness_model.pkl')\n",
    "\n",
    "# Setup Serial Communication\n",
    "serial_port = 'COM4'  # Update with your Arduino port for Windows, or the appropriate port for macOS/Linux\n",
    "baud_rate = 9600\n",
    "ser = serial.Serial(serial_port, baud_rate)\n",
    "\n",
    "# Setup feature scaler (ensure to use the same scaler as used during training)\n",
    "scaler = StandardScaler()\n",
    "\n",
    "def predict_milk_freshness(data):\n",
    "    # Convert data to the appropriate format\n",
    "    features = pd.DataFrame([data], columns=['absorbance', 'reflectance', 'fluorescence'])\n",
    "    \n",
    "    # Preprocess features (apply the same scaling used during training)\n",
    "    features_scaled = scaler.fit_transform(features)  # Replace with actual scaler used during training\n",
    "\n",
    "    # Predict using the loaded model\n",
    "    prediction = model.predict(features_scaled)\n",
    "    return 'Fresh' if prediction[0] == 1 else 'Spoiled'\n",
    "\n",
    "while True:\n",
    "    if ser.in_waiting > 0:\n",
    "        line = ser.readline().decode('utf-8').strip()\n",
    "        data = list(map(float, line.split(',')))\n",
    "        \n",
    "        if len(data) == 3:\n",
    "            result = predict_milk_freshness(data)\n",
    "            print(f\"Milk Quality: {result}\")\n"
   ]
  },
  {
   "cell_type": "code",
   "execution_count": 43,
   "id": "4d5f6d7a-14f3-4b51-97b8-98cfe4e541bd",
   "metadata": {},
   "outputs": [
    {
     "name": "stdout",
     "output_type": "stream",
     "text": [
      "Best Model with Highest Accuracy\n",
      "DecisionTreeClassifier with 99.09 % Accuracy\n"
     ]
    }
   ],
   "source": [
    "print(\"Best Model with Highest Accuracy\")\n",
    "print(f\"{model_acc_df.iloc[0,0]} with {round(model_acc_df.iloc[0,1],2)} % Accuracy\")"
   ]
  },
  {
   "cell_type": "code",
   "execution_count": 44,
   "id": "5fdd9b10-6e02-4aa6-8420-aafb62e6a385",
   "metadata": {},
   "outputs": [
    {
     "name": "stdout",
     "output_type": "stream",
     "text": [
      "Evaluation Metrics for GradientBoostingClassifier\n",
      "\n",
      "              precision    recall  f1-score   support\n",
      "\n",
      "           0       1.00      1.00      1.00        30\n",
      "           1       1.00      1.00      1.00        36\n",
      "\n",
      "    accuracy                           1.00        66\n",
      "   macro avg       1.00      1.00      1.00        66\n",
      "weighted avg       1.00      1.00      1.00        66\n",
      "\n"
     ]
    }
   ],
   "source": [
    "print(\"Evaluation Metrics for GradientBoostingClassifier\")\n",
    "GBC.fit(x_train,y_train)\n",
    "y_pred=GBC.predict(x_test)\n",
    "print(\"\")\n",
    "print(classification_report(y_test,y_pred))"
   ]
  },
  {
   "cell_type": "code",
   "execution_count": 45,
   "id": "2fd307b5-7e0b-4f50-9ec3-aba94c111013",
   "metadata": {},
   "outputs": [
    {
     "data": {
      "text/plain": [
       "<Axes: >"
      ]
     },
     "execution_count": 45,
     "metadata": {},
     "output_type": "execute_result"
    },
    {
     "data": {
      "image/png": "[encoded data removed]",
      "text/plain": [
       "<Figure size 640x480 with 2 Axes>"
      ]
     },
     "metadata": {},
     "output_type": "display_data"
    }
   ],
   "source": [
    "cm=confusion_matrix(y_test,y_pred)\n",
    "sns.heatmap(cm,annot=True)"
   ]
  },
  {
   "cell_type": "code",
   "execution_count": 46,
   "id": "d198e786-de8b-48e9-8a95-22042cb68898",
   "metadata": {},
   "outputs": [
    {
     "name": "stdin",
     "output_type": "stream",
     "text": [
      "Enter the absorbance value =  0\n",
      "Enter the reflectance value =  8\n",
      "Enter the fluoroscence value =  9\n"
     ]
    }
   ],
   "source": [
    "Absorbance=float(input(\"Enter the absorbance value = \"))\n",
    "Reflectance=float(input(\"Enter the reflectance value = \"))\n",
    "Fluoroscence=float(input(\"Enter the fluoroscence value = \"))"
   ]
  },
  {
   "cell_type": "code",
   "execution_count": 47,
   "id": "0627c9f7-92f2-4da5-93be-edbb8063772d",
   "metadata": {},
   "outputs": [
    {
     "name": "stdout",
     "output_type": "stream",
     "text": [
      "Spoiled Milk\n"
     ]
    }
   ],
   "source": [
    "input_data=[Absorbance,Reflectance,Fluoroscence]\n",
    "prediction=GBC.predict([input_data])\n",
    "if prediction[0]==1:\n",
    "    print(\"Fresh Milk\")\n",
    "else:\n",
    "    print(\"Spoiled Milk\")"
   ]
  },
  {
   "cell_type": "code",
   "execution_count": null,
   "id": "560045b4-49ea-47c3-bfb8-8145ac44938a",
   "metadata": {},
   "outputs": [],
   "source": []
  }
 ],
 "metadata": {
  "kernelspec": {
   "display_name": "Python 3 (ipykernel)",
   "language": "python",
   "name": "python3"
  },
  "language_info": {
   "codemirror_mode": {
    "name": "ipython",
    "version": 3
   },
   "file_extension": ".py",
   "mimetype": "text/x-python",
   "name": "python",
   "nbconvert_exporter": "python",
   "pygments_lexer": "ipython3",
   "version": "3.11.7"
  }
 },
 "nbformat": 4,
 "nbformat_minor": 5
}
